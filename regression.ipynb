{
  "cells": [
    {
      "cell_type": "markdown",
      "metadata": {
        "id": "u-4IhzdyHIGy"
      },
      "source": [
        "### Import the data\n"
      ]
    },
    {
      "cell_type": "code",
      "execution_count": null,
      "metadata": {
        "id": "CtiIPMBF2EGd"
      },
      "outputs": [],
      "source": [
        "  #Publicly Useable File\n",
        "\n",
        "import pandas as pd\n",
        "\n",
        "url = 'https://drive.google.com/file/d/1CIrXbPbcNL58C1Pr2mox2tzPx6wCOOuw/view?usp=sharing'\n",
        "SpotifyFeatures = 'https://drive.google.com/uc?export=download&id='+url.split('/')[-2]\n",
        "df = pd.read_csv(SpotifyFeatures)"
      ]
    },
    {
      "cell_type": "code",
      "execution_count": null,
      "metadata": {
        "colab": {
          "base_uri": "https://localhost:8080/"
        },
        "id": "1znPUm88GsMH",
        "outputId": "183be69c-9b44-48d1-fe95-a53fd38a5731"
      },
      "outputs": [
        {
          "output_type": "stream",
          "name": "stdout",
          "text": [
            "[Errno 2] No such file or directory: '/content/drive/MyDrive/DS_Using_Python'\n",
            "/content\n"
          ]
        }
      ],
      "source": [
        "cd /content/drive/MyDrive/DS_Using_Python"
      ]
    },
    {
      "cell_type": "code",
      "execution_count": null,
      "metadata": {
        "id": "WAjklqk_G3o_",
        "colab": {
          "base_uri": "https://localhost:8080/",
          "height": 328
        },
        "outputId": "ac3061d6-cd61-450e-8013-1bdc188fe8a4"
      },
      "outputs": [
        {
          "output_type": "error",
          "ename": "FileNotFoundError",
          "evalue": "ignored",
          "traceback": [
            "\u001b[0;31m---------------------------------------------------------------------------\u001b[0m",
            "\u001b[0;31mFileNotFoundError\u001b[0m                         Traceback (most recent call last)",
            "\u001b[0;32m<ipython-input-3-b99524288f26>\u001b[0m in \u001b[0;36m<module>\u001b[0;34m()\u001b[0m\n\u001b[0;32m----> 1\u001b[0;31m \u001b[0mdf_data2\u001b[0m \u001b[0;34m=\u001b[0m \u001b[0mpd\u001b[0m\u001b[0;34m.\u001b[0m\u001b[0mread_csv\u001b[0m\u001b[0;34m(\u001b[0m\u001b[0;34m'SpotifyData_2.csv'\u001b[0m\u001b[0;34m)\u001b[0m\u001b[0;34m\u001b[0m\u001b[0;34m\u001b[0m\u001b[0m\n\u001b[0m",
            "\u001b[0;32m/usr/local/lib/python3.7/dist-packages/pandas/util/_decorators.py\u001b[0m in \u001b[0;36mwrapper\u001b[0;34m(*args, **kwargs)\u001b[0m\n\u001b[1;32m    309\u001b[0m                     \u001b[0mstacklevel\u001b[0m\u001b[0;34m=\u001b[0m\u001b[0mstacklevel\u001b[0m\u001b[0;34m,\u001b[0m\u001b[0;34m\u001b[0m\u001b[0;34m\u001b[0m\u001b[0m\n\u001b[1;32m    310\u001b[0m                 )\n\u001b[0;32m--> 311\u001b[0;31m             \u001b[0;32mreturn\u001b[0m \u001b[0mfunc\u001b[0m\u001b[0;34m(\u001b[0m\u001b[0;34m*\u001b[0m\u001b[0margs\u001b[0m\u001b[0;34m,\u001b[0m \u001b[0;34m**\u001b[0m\u001b[0mkwargs\u001b[0m\u001b[0;34m)\u001b[0m\u001b[0;34m\u001b[0m\u001b[0;34m\u001b[0m\u001b[0m\n\u001b[0m\u001b[1;32m    312\u001b[0m \u001b[0;34m\u001b[0m\u001b[0m\n\u001b[1;32m    313\u001b[0m         \u001b[0;32mreturn\u001b[0m \u001b[0mwrapper\u001b[0m\u001b[0;34m\u001b[0m\u001b[0;34m\u001b[0m\u001b[0m\n",
            "\u001b[0;32m/usr/local/lib/python3.7/dist-packages/pandas/io/parsers/readers.py\u001b[0m in \u001b[0;36mread_csv\u001b[0;34m(filepath_or_buffer, sep, delimiter, header, names, index_col, usecols, squeeze, prefix, mangle_dupe_cols, dtype, engine, converters, true_values, false_values, skipinitialspace, skiprows, skipfooter, nrows, na_values, keep_default_na, na_filter, verbose, skip_blank_lines, parse_dates, infer_datetime_format, keep_date_col, date_parser, dayfirst, cache_dates, iterator, chunksize, compression, thousands, decimal, lineterminator, quotechar, quoting, doublequote, escapechar, comment, encoding, encoding_errors, dialect, error_bad_lines, warn_bad_lines, on_bad_lines, delim_whitespace, low_memory, memory_map, float_precision, storage_options)\u001b[0m\n\u001b[1;32m    584\u001b[0m     \u001b[0mkwds\u001b[0m\u001b[0;34m.\u001b[0m\u001b[0mupdate\u001b[0m\u001b[0;34m(\u001b[0m\u001b[0mkwds_defaults\u001b[0m\u001b[0;34m)\u001b[0m\u001b[0;34m\u001b[0m\u001b[0;34m\u001b[0m\u001b[0m\n\u001b[1;32m    585\u001b[0m \u001b[0;34m\u001b[0m\u001b[0m\n\u001b[0;32m--> 586\u001b[0;31m     \u001b[0;32mreturn\u001b[0m \u001b[0m_read\u001b[0m\u001b[0;34m(\u001b[0m\u001b[0mfilepath_or_buffer\u001b[0m\u001b[0;34m,\u001b[0m \u001b[0mkwds\u001b[0m\u001b[0;34m)\u001b[0m\u001b[0;34m\u001b[0m\u001b[0;34m\u001b[0m\u001b[0m\n\u001b[0m\u001b[1;32m    587\u001b[0m \u001b[0;34m\u001b[0m\u001b[0m\n\u001b[1;32m    588\u001b[0m \u001b[0;34m\u001b[0m\u001b[0m\n",
            "\u001b[0;32m/usr/local/lib/python3.7/dist-packages/pandas/io/parsers/readers.py\u001b[0m in \u001b[0;36m_read\u001b[0;34m(filepath_or_buffer, kwds)\u001b[0m\n\u001b[1;32m    480\u001b[0m \u001b[0;34m\u001b[0m\u001b[0m\n\u001b[1;32m    481\u001b[0m     \u001b[0;31m# Create the parser.\u001b[0m\u001b[0;34m\u001b[0m\u001b[0;34m\u001b[0m\u001b[0;34m\u001b[0m\u001b[0m\n\u001b[0;32m--> 482\u001b[0;31m     \u001b[0mparser\u001b[0m \u001b[0;34m=\u001b[0m \u001b[0mTextFileReader\u001b[0m\u001b[0;34m(\u001b[0m\u001b[0mfilepath_or_buffer\u001b[0m\u001b[0;34m,\u001b[0m \u001b[0;34m**\u001b[0m\u001b[0mkwds\u001b[0m\u001b[0;34m)\u001b[0m\u001b[0;34m\u001b[0m\u001b[0;34m\u001b[0m\u001b[0m\n\u001b[0m\u001b[1;32m    483\u001b[0m \u001b[0;34m\u001b[0m\u001b[0m\n\u001b[1;32m    484\u001b[0m     \u001b[0;32mif\u001b[0m \u001b[0mchunksize\u001b[0m \u001b[0;32mor\u001b[0m \u001b[0miterator\u001b[0m\u001b[0;34m:\u001b[0m\u001b[0;34m\u001b[0m\u001b[0;34m\u001b[0m\u001b[0m\n",
            "\u001b[0;32m/usr/local/lib/python3.7/dist-packages/pandas/io/parsers/readers.py\u001b[0m in \u001b[0;36m__init__\u001b[0;34m(self, f, engine, **kwds)\u001b[0m\n\u001b[1;32m    809\u001b[0m             \u001b[0mself\u001b[0m\u001b[0;34m.\u001b[0m\u001b[0moptions\u001b[0m\u001b[0;34m[\u001b[0m\u001b[0;34m\"has_index_names\"\u001b[0m\u001b[0;34m]\u001b[0m \u001b[0;34m=\u001b[0m \u001b[0mkwds\u001b[0m\u001b[0;34m[\u001b[0m\u001b[0;34m\"has_index_names\"\u001b[0m\u001b[0;34m]\u001b[0m\u001b[0;34m\u001b[0m\u001b[0;34m\u001b[0m\u001b[0m\n\u001b[1;32m    810\u001b[0m \u001b[0;34m\u001b[0m\u001b[0m\n\u001b[0;32m--> 811\u001b[0;31m         \u001b[0mself\u001b[0m\u001b[0;34m.\u001b[0m\u001b[0m_engine\u001b[0m \u001b[0;34m=\u001b[0m \u001b[0mself\u001b[0m\u001b[0;34m.\u001b[0m\u001b[0m_make_engine\u001b[0m\u001b[0;34m(\u001b[0m\u001b[0mself\u001b[0m\u001b[0;34m.\u001b[0m\u001b[0mengine\u001b[0m\u001b[0;34m)\u001b[0m\u001b[0;34m\u001b[0m\u001b[0;34m\u001b[0m\u001b[0m\n\u001b[0m\u001b[1;32m    812\u001b[0m \u001b[0;34m\u001b[0m\u001b[0m\n\u001b[1;32m    813\u001b[0m     \u001b[0;32mdef\u001b[0m \u001b[0mclose\u001b[0m\u001b[0;34m(\u001b[0m\u001b[0mself\u001b[0m\u001b[0;34m)\u001b[0m\u001b[0;34m:\u001b[0m\u001b[0;34m\u001b[0m\u001b[0;34m\u001b[0m\u001b[0m\n",
            "\u001b[0;32m/usr/local/lib/python3.7/dist-packages/pandas/io/parsers/readers.py\u001b[0m in \u001b[0;36m_make_engine\u001b[0;34m(self, engine)\u001b[0m\n\u001b[1;32m   1038\u001b[0m             )\n\u001b[1;32m   1039\u001b[0m         \u001b[0;31m# error: Too many arguments for \"ParserBase\"\u001b[0m\u001b[0;34m\u001b[0m\u001b[0;34m\u001b[0m\u001b[0;34m\u001b[0m\u001b[0m\n\u001b[0;32m-> 1040\u001b[0;31m         \u001b[0;32mreturn\u001b[0m \u001b[0mmapping\u001b[0m\u001b[0;34m[\u001b[0m\u001b[0mengine\u001b[0m\u001b[0;34m]\u001b[0m\u001b[0;34m(\u001b[0m\u001b[0mself\u001b[0m\u001b[0;34m.\u001b[0m\u001b[0mf\u001b[0m\u001b[0;34m,\u001b[0m \u001b[0;34m**\u001b[0m\u001b[0mself\u001b[0m\u001b[0;34m.\u001b[0m\u001b[0moptions\u001b[0m\u001b[0;34m)\u001b[0m  \u001b[0;31m# type: ignore[call-arg]\u001b[0m\u001b[0;34m\u001b[0m\u001b[0;34m\u001b[0m\u001b[0m\n\u001b[0m\u001b[1;32m   1041\u001b[0m \u001b[0;34m\u001b[0m\u001b[0m\n\u001b[1;32m   1042\u001b[0m     \u001b[0;32mdef\u001b[0m \u001b[0m_failover_to_python\u001b[0m\u001b[0;34m(\u001b[0m\u001b[0mself\u001b[0m\u001b[0;34m)\u001b[0m\u001b[0;34m:\u001b[0m\u001b[0;34m\u001b[0m\u001b[0;34m\u001b[0m\u001b[0m\n",
            "\u001b[0;32m/usr/local/lib/python3.7/dist-packages/pandas/io/parsers/c_parser_wrapper.py\u001b[0m in \u001b[0;36m__init__\u001b[0;34m(self, src, **kwds)\u001b[0m\n\u001b[1;32m     49\u001b[0m \u001b[0;34m\u001b[0m\u001b[0m\n\u001b[1;32m     50\u001b[0m         \u001b[0;31m# open handles\u001b[0m\u001b[0;34m\u001b[0m\u001b[0;34m\u001b[0m\u001b[0;34m\u001b[0m\u001b[0m\n\u001b[0;32m---> 51\u001b[0;31m         \u001b[0mself\u001b[0m\u001b[0;34m.\u001b[0m\u001b[0m_open_handles\u001b[0m\u001b[0;34m(\u001b[0m\u001b[0msrc\u001b[0m\u001b[0;34m,\u001b[0m \u001b[0mkwds\u001b[0m\u001b[0;34m)\u001b[0m\u001b[0;34m\u001b[0m\u001b[0;34m\u001b[0m\u001b[0m\n\u001b[0m\u001b[1;32m     52\u001b[0m         \u001b[0;32massert\u001b[0m \u001b[0mself\u001b[0m\u001b[0;34m.\u001b[0m\u001b[0mhandles\u001b[0m \u001b[0;32mis\u001b[0m \u001b[0;32mnot\u001b[0m \u001b[0;32mNone\u001b[0m\u001b[0;34m\u001b[0m\u001b[0;34m\u001b[0m\u001b[0m\n\u001b[1;32m     53\u001b[0m \u001b[0;34m\u001b[0m\u001b[0m\n",
            "\u001b[0;32m/usr/local/lib/python3.7/dist-packages/pandas/io/parsers/base_parser.py\u001b[0m in \u001b[0;36m_open_handles\u001b[0;34m(self, src, kwds)\u001b[0m\n\u001b[1;32m    227\u001b[0m             \u001b[0mmemory_map\u001b[0m\u001b[0;34m=\u001b[0m\u001b[0mkwds\u001b[0m\u001b[0;34m.\u001b[0m\u001b[0mget\u001b[0m\u001b[0;34m(\u001b[0m\u001b[0;34m\"memory_map\"\u001b[0m\u001b[0;34m,\u001b[0m \u001b[0;32mFalse\u001b[0m\u001b[0;34m)\u001b[0m\u001b[0;34m,\u001b[0m\u001b[0;34m\u001b[0m\u001b[0;34m\u001b[0m\u001b[0m\n\u001b[1;32m    228\u001b[0m             \u001b[0mstorage_options\u001b[0m\u001b[0;34m=\u001b[0m\u001b[0mkwds\u001b[0m\u001b[0;34m.\u001b[0m\u001b[0mget\u001b[0m\u001b[0;34m(\u001b[0m\u001b[0;34m\"storage_options\"\u001b[0m\u001b[0;34m,\u001b[0m \u001b[0;32mNone\u001b[0m\u001b[0;34m)\u001b[0m\u001b[0;34m,\u001b[0m\u001b[0;34m\u001b[0m\u001b[0;34m\u001b[0m\u001b[0m\n\u001b[0;32m--> 229\u001b[0;31m             \u001b[0merrors\u001b[0m\u001b[0;34m=\u001b[0m\u001b[0mkwds\u001b[0m\u001b[0;34m.\u001b[0m\u001b[0mget\u001b[0m\u001b[0;34m(\u001b[0m\u001b[0;34m\"encoding_errors\"\u001b[0m\u001b[0;34m,\u001b[0m \u001b[0;34m\"strict\"\u001b[0m\u001b[0;34m)\u001b[0m\u001b[0;34m,\u001b[0m\u001b[0;34m\u001b[0m\u001b[0;34m\u001b[0m\u001b[0m\n\u001b[0m\u001b[1;32m    230\u001b[0m         )\n\u001b[1;32m    231\u001b[0m \u001b[0;34m\u001b[0m\u001b[0m\n",
            "\u001b[0;32m/usr/local/lib/python3.7/dist-packages/pandas/io/common.py\u001b[0m in \u001b[0;36mget_handle\u001b[0;34m(path_or_buf, mode, encoding, compression, memory_map, is_text, errors, storage_options)\u001b[0m\n\u001b[1;32m    705\u001b[0m                 \u001b[0mencoding\u001b[0m\u001b[0;34m=\u001b[0m\u001b[0mioargs\u001b[0m\u001b[0;34m.\u001b[0m\u001b[0mencoding\u001b[0m\u001b[0;34m,\u001b[0m\u001b[0;34m\u001b[0m\u001b[0;34m\u001b[0m\u001b[0m\n\u001b[1;32m    706\u001b[0m                 \u001b[0merrors\u001b[0m\u001b[0;34m=\u001b[0m\u001b[0merrors\u001b[0m\u001b[0;34m,\u001b[0m\u001b[0;34m\u001b[0m\u001b[0;34m\u001b[0m\u001b[0m\n\u001b[0;32m--> 707\u001b[0;31m                 \u001b[0mnewline\u001b[0m\u001b[0;34m=\u001b[0m\u001b[0;34m\"\"\u001b[0m\u001b[0;34m,\u001b[0m\u001b[0;34m\u001b[0m\u001b[0;34m\u001b[0m\u001b[0m\n\u001b[0m\u001b[1;32m    708\u001b[0m             )\n\u001b[1;32m    709\u001b[0m         \u001b[0;32melse\u001b[0m\u001b[0;34m:\u001b[0m\u001b[0;34m\u001b[0m\u001b[0;34m\u001b[0m\u001b[0m\n",
            "\u001b[0;31mFileNotFoundError\u001b[0m: [Errno 2] No such file or directory: 'SpotifyData_2.csv'"
          ]
        }
      ],
      "source": [
        "df_data2 = pd.read_csv('SpotifyData_2.csv')"
      ]
    },
    {
      "cell_type": "code",
      "source": [
        "from google.colab import drive\n",
        "drive.mount('/content/drive')"
      ],
      "metadata": {
        "id": "j9q1ZwbyCrLY",
        "colab": {
          "base_uri": "https://localhost:8080/"
        },
        "outputId": "013ed7f4-9aee-4b26-e52e-efa7ddb3d50e"
      },
      "execution_count": 4,
      "outputs": [
        {
          "output_type": "stream",
          "name": "stdout",
          "text": [
            "Mounted at /content/drive\n"
          ]
        }
      ]
    },
    {
      "cell_type": "code",
      "execution_count": null,
      "metadata": {
        "id": "T-9awuaK1Qvx"
      },
      "outputs": [],
      "source": [
        "import pandas as pd\n",
        "import numpy as np\n",
        "from scipy.stats import randint\n",
        "from scipy.stats import uniform"
      ]
    },
    {
      "cell_type": "code",
      "execution_count": null,
      "metadata": {
        "id": "1VfDQWnx1WAI"
      },
      "outputs": [],
      "source": [
        "import matplotlib.pyplot as plt\n",
        "import numpy as np\n",
        "import seaborn as sns\n",
        "from sklearn import datasets, linear_model\n",
        "from sklearn.metrics import mean_squared_error, r2_score"
      ]
    },
    {
      "cell_type": "markdown",
      "metadata": {
        "id": "zal3XUYrHDXA"
      },
      "source": [
        "#### Append the data from two different sources"
      ]
    },
    {
      "cell_type": "code",
      "execution_count": null,
      "metadata": {
        "colab": {
          "base_uri": "https://localhost:8080/",
          "height": 478
        },
        "id": "A5uTWl65HCcr",
        "outputId": "bafa4abe-ed93-4975-8ea0-3c5dc3106dd1"
      },
      "outputs": [
        {
          "output_type": "execute_result",
          "data": {
            "text/plain": [
              "   acousticness                                   artists  danceability  \\\n",
              "0         0.995                       ['Carl Woitschach']         0.708   \n",
              "1         0.994  ['Robert Schumann', 'Vladimir Horowitz']         0.379   \n",
              "2         0.604                   ['Seweryn Goszczyński']         0.749   \n",
              "3         0.995                      ['Francisco Canaro']         0.781   \n",
              "4         0.990  ['Frédéric Chopin', 'Vladimir Horowitz']         0.210   \n",
              "\n",
              "   duration_ms  energy  explicit                      id  instrumentalness  \\\n",
              "0       158648  0.1950         0  6KbQ3uYMLKb5jDxLF7wYDD             0.563   \n",
              "1       282133  0.0135         0  6KuQTIu1KoTTkLXKrwlLPV             0.901   \n",
              "2       104300  0.2200         0  6L63VW0PibdM1HDSBoqnoM             0.000   \n",
              "3       180760  0.1300         0  6M94FkXd15sOAOQYRnWPN8             0.887   \n",
              "4       687733  0.2040         0  6N6tiFZ9vLTSOIxkj8qKrd             0.908   \n",
              "\n",
              "   key  liveness  loudness  mode  \\\n",
              "0   10    0.1510   -12.428     1   \n",
              "1    8    0.0763   -28.454     1   \n",
              "2    5    0.1190   -19.924     0   \n",
              "3    1    0.1110   -14.734     0   \n",
              "4   11    0.0980   -16.829     1   \n",
              "\n",
              "                                            name  popularity release_date  \\\n",
              "0                    Singende Bataillone 1. Teil           0         1928   \n",
              "1       Fantasiestücke, Op. 111: Più tosto lento           0         1928   \n",
              "2                 Chapter 1.18 - Zamek kaniowski           0         1928   \n",
              "3  Bebamos Juntos - Instrumental (Remasterizado)           0   1928-09-25   \n",
              "4    Polonaise-Fantaisie in A-Flat Major, Op. 61           1         1928   \n",
              "\n",
              "   speechiness    tempo  valence  year  \n",
              "0       0.0506  118.469   0.7790  1928  \n",
              "1       0.0462   83.972   0.0767  1928  \n",
              "2       0.9290  107.177   0.8800  1928  \n",
              "3       0.0926  108.003   0.7200  1928  \n",
              "4       0.0424   62.149   0.0693  1928  "
            ],
            "text/html": [
              "\n",
              "  <div id=\"df-d4112462-d8b4-45e9-b1e0-fa8b35e2fe6c\">\n",
              "    <div class=\"colab-df-container\">\n",
              "      <div>\n",
              "<style scoped>\n",
              "    .dataframe tbody tr th:only-of-type {\n",
              "        vertical-align: middle;\n",
              "    }\n",
              "\n",
              "    .dataframe tbody tr th {\n",
              "        vertical-align: top;\n",
              "    }\n",
              "\n",
              "    .dataframe thead th {\n",
              "        text-align: right;\n",
              "    }\n",
              "</style>\n",
              "<table border=\"1\" class=\"dataframe\">\n",
              "  <thead>\n",
              "    <tr style=\"text-align: right;\">\n",
              "      <th></th>\n",
              "      <th>acousticness</th>\n",
              "      <th>artists</th>\n",
              "      <th>danceability</th>\n",
              "      <th>duration_ms</th>\n",
              "      <th>energy</th>\n",
              "      <th>explicit</th>\n",
              "      <th>id</th>\n",
              "      <th>instrumentalness</th>\n",
              "      <th>key</th>\n",
              "      <th>liveness</th>\n",
              "      <th>loudness</th>\n",
              "      <th>mode</th>\n",
              "      <th>name</th>\n",
              "      <th>popularity</th>\n",
              "      <th>release_date</th>\n",
              "      <th>speechiness</th>\n",
              "      <th>tempo</th>\n",
              "      <th>valence</th>\n",
              "      <th>year</th>\n",
              "    </tr>\n",
              "  </thead>\n",
              "  <tbody>\n",
              "    <tr>\n",
              "      <th>0</th>\n",
              "      <td>0.995</td>\n",
              "      <td>['Carl Woitschach']</td>\n",
              "      <td>0.708</td>\n",
              "      <td>158648</td>\n",
              "      <td>0.1950</td>\n",
              "      <td>0</td>\n",
              "      <td>6KbQ3uYMLKb5jDxLF7wYDD</td>\n",
              "      <td>0.563</td>\n",
              "      <td>10</td>\n",
              "      <td>0.1510</td>\n",
              "      <td>-12.428</td>\n",
              "      <td>1</td>\n",
              "      <td>Singende Bataillone 1. Teil</td>\n",
              "      <td>0</td>\n",
              "      <td>1928</td>\n",
              "      <td>0.0506</td>\n",
              "      <td>118.469</td>\n",
              "      <td>0.7790</td>\n",
              "      <td>1928</td>\n",
              "    </tr>\n",
              "    <tr>\n",
              "      <th>1</th>\n",
              "      <td>0.994</td>\n",
              "      <td>['Robert Schumann', 'Vladimir Horowitz']</td>\n",
              "      <td>0.379</td>\n",
              "      <td>282133</td>\n",
              "      <td>0.0135</td>\n",
              "      <td>0</td>\n",
              "      <td>6KuQTIu1KoTTkLXKrwlLPV</td>\n",
              "      <td>0.901</td>\n",
              "      <td>8</td>\n",
              "      <td>0.0763</td>\n",
              "      <td>-28.454</td>\n",
              "      <td>1</td>\n",
              "      <td>Fantasiestücke, Op. 111: Più tosto lento</td>\n",
              "      <td>0</td>\n",
              "      <td>1928</td>\n",
              "      <td>0.0462</td>\n",
              "      <td>83.972</td>\n",
              "      <td>0.0767</td>\n",
              "      <td>1928</td>\n",
              "    </tr>\n",
              "    <tr>\n",
              "      <th>2</th>\n",
              "      <td>0.604</td>\n",
              "      <td>['Seweryn Goszczyński']</td>\n",
              "      <td>0.749</td>\n",
              "      <td>104300</td>\n",
              "      <td>0.2200</td>\n",
              "      <td>0</td>\n",
              "      <td>6L63VW0PibdM1HDSBoqnoM</td>\n",
              "      <td>0.000</td>\n",
              "      <td>5</td>\n",
              "      <td>0.1190</td>\n",
              "      <td>-19.924</td>\n",
              "      <td>0</td>\n",
              "      <td>Chapter 1.18 - Zamek kaniowski</td>\n",
              "      <td>0</td>\n",
              "      <td>1928</td>\n",
              "      <td>0.9290</td>\n",
              "      <td>107.177</td>\n",
              "      <td>0.8800</td>\n",
              "      <td>1928</td>\n",
              "    </tr>\n",
              "    <tr>\n",
              "      <th>3</th>\n",
              "      <td>0.995</td>\n",
              "      <td>['Francisco Canaro']</td>\n",
              "      <td>0.781</td>\n",
              "      <td>180760</td>\n",
              "      <td>0.1300</td>\n",
              "      <td>0</td>\n",
              "      <td>6M94FkXd15sOAOQYRnWPN8</td>\n",
              "      <td>0.887</td>\n",
              "      <td>1</td>\n",
              "      <td>0.1110</td>\n",
              "      <td>-14.734</td>\n",
              "      <td>0</td>\n",
              "      <td>Bebamos Juntos - Instrumental (Remasterizado)</td>\n",
              "      <td>0</td>\n",
              "      <td>1928-09-25</td>\n",
              "      <td>0.0926</td>\n",
              "      <td>108.003</td>\n",
              "      <td>0.7200</td>\n",
              "      <td>1928</td>\n",
              "    </tr>\n",
              "    <tr>\n",
              "      <th>4</th>\n",
              "      <td>0.990</td>\n",
              "      <td>['Frédéric Chopin', 'Vladimir Horowitz']</td>\n",
              "      <td>0.210</td>\n",
              "      <td>687733</td>\n",
              "      <td>0.2040</td>\n",
              "      <td>0</td>\n",
              "      <td>6N6tiFZ9vLTSOIxkj8qKrd</td>\n",
              "      <td>0.908</td>\n",
              "      <td>11</td>\n",
              "      <td>0.0980</td>\n",
              "      <td>-16.829</td>\n",
              "      <td>1</td>\n",
              "      <td>Polonaise-Fantaisie in A-Flat Major, Op. 61</td>\n",
              "      <td>1</td>\n",
              "      <td>1928</td>\n",
              "      <td>0.0424</td>\n",
              "      <td>62.149</td>\n",
              "      <td>0.0693</td>\n",
              "      <td>1928</td>\n",
              "    </tr>\n",
              "  </tbody>\n",
              "</table>\n",
              "</div>\n",
              "      <button class=\"colab-df-convert\" onclick=\"convertToInteractive('df-d4112462-d8b4-45e9-b1e0-fa8b35e2fe6c')\"\n",
              "              title=\"Convert this dataframe to an interactive table.\"\n",
              "              style=\"display:none;\">\n",
              "        \n",
              "  <svg xmlns=\"http://www.w3.org/2000/svg\" height=\"24px\"viewBox=\"0 0 24 24\"\n",
              "       width=\"24px\">\n",
              "    <path d=\"M0 0h24v24H0V0z\" fill=\"none\"/>\n",
              "    <path d=\"M18.56 5.44l.94 2.06.94-2.06 2.06-.94-2.06-.94-.94-2.06-.94 2.06-2.06.94zm-11 1L8.5 8.5l.94-2.06 2.06-.94-2.06-.94L8.5 2.5l-.94 2.06-2.06.94zm10 10l.94 2.06.94-2.06 2.06-.94-2.06-.94-.94-2.06-.94 2.06-2.06.94z\"/><path d=\"M17.41 7.96l-1.37-1.37c-.4-.4-.92-.59-1.43-.59-.52 0-1.04.2-1.43.59L10.3 9.45l-7.72 7.72c-.78.78-.78 2.05 0 2.83L4 21.41c.39.39.9.59 1.41.59.51 0 1.02-.2 1.41-.59l7.78-7.78 2.81-2.81c.8-.78.8-2.07 0-2.86zM5.41 20L4 18.59l7.72-7.72 1.47 1.35L5.41 20z\"/>\n",
              "  </svg>\n",
              "      </button>\n",
              "      \n",
              "  <style>\n",
              "    .colab-df-container {\n",
              "      display:flex;\n",
              "      flex-wrap:wrap;\n",
              "      gap: 12px;\n",
              "    }\n",
              "\n",
              "    .colab-df-convert {\n",
              "      background-color: #E8F0FE;\n",
              "      border: none;\n",
              "      border-radius: 50%;\n",
              "      cursor: pointer;\n",
              "      display: none;\n",
              "      fill: #1967D2;\n",
              "      height: 32px;\n",
              "      padding: 0 0 0 0;\n",
              "      width: 32px;\n",
              "    }\n",
              "\n",
              "    .colab-df-convert:hover {\n",
              "      background-color: #E2EBFA;\n",
              "      box-shadow: 0px 1px 2px rgba(60, 64, 67, 0.3), 0px 1px 3px 1px rgba(60, 64, 67, 0.15);\n",
              "      fill: #174EA6;\n",
              "    }\n",
              "\n",
              "    [theme=dark] .colab-df-convert {\n",
              "      background-color: #3B4455;\n",
              "      fill: #D2E3FC;\n",
              "    }\n",
              "\n",
              "    [theme=dark] .colab-df-convert:hover {\n",
              "      background-color: #434B5C;\n",
              "      box-shadow: 0px 1px 3px 1px rgba(0, 0, 0, 0.15);\n",
              "      filter: drop-shadow(0px 1px 2px rgba(0, 0, 0, 0.3));\n",
              "      fill: #FFFFFF;\n",
              "    }\n",
              "  </style>\n",
              "\n",
              "      <script>\n",
              "        const buttonEl =\n",
              "          document.querySelector('#df-d4112462-d8b4-45e9-b1e0-fa8b35e2fe6c button.colab-df-convert');\n",
              "        buttonEl.style.display =\n",
              "          google.colab.kernel.accessAllowed ? 'block' : 'none';\n",
              "\n",
              "        async function convertToInteractive(key) {\n",
              "          const element = document.querySelector('#df-d4112462-d8b4-45e9-b1e0-fa8b35e2fe6c');\n",
              "          const dataTable =\n",
              "            await google.colab.kernel.invokeFunction('convertToInteractive',\n",
              "                                                     [key], {});\n",
              "          if (!dataTable) return;\n",
              "\n",
              "          const docLinkHtml = 'Like what you see? Visit the ' +\n",
              "            '<a target=\"_blank\" href=https://colab.research.google.com/notebooks/data_table.ipynb>data table notebook</a>'\n",
              "            + ' to learn more about interactive tables.';\n",
              "          element.innerHTML = '';\n",
              "          dataTable['output_type'] = 'display_data';\n",
              "          await google.colab.output.renderOutput(dataTable, element);\n",
              "          const docLink = document.createElement('div');\n",
              "          docLink.innerHTML = docLinkHtml;\n",
              "          element.appendChild(docLink);\n",
              "        }\n",
              "      </script>\n",
              "    </div>\n",
              "  </div>\n",
              "  "
            ]
          },
          "metadata": {},
          "execution_count": 6
        }
      ],
      "source": [
        "df_data2.head()"
      ]
    },
    {
      "cell_type": "code",
      "execution_count": null,
      "metadata": {
        "id": "mXsy07W21X7G"
      },
      "outputs": [],
      "source": [
        "df2 = df.sample(n = 100000, random_state = 0)"
      ]
    },
    {
      "cell_type": "code",
      "execution_count": null,
      "metadata": {
        "id": "aeS0x2tTkbRd"
      },
      "outputs": [],
      "source": [
        "# df2 = pd.get_dummies(df2, columns = ['genre'])\n",
        "# df2.head()"
      ]
    },
    {
      "cell_type": "code",
      "execution_count": null,
      "metadata": {
        "id": "AMlt7m-G1r4j"
      },
      "outputs": [],
      "source": [
        "# Convert categorical values into numbers\n",
        "from sklearn.preprocessing import LabelEncoder\n",
        "class_le = LabelEncoder()\n",
        "\n",
        "# Collect the X-values into X-matrix\n",
        "X = df2[['genre', 'acousticness', 'danceability', 'duration_ms', 'instrumentalness', 'loudness', 'speechiness']]\n",
        "#X = df2[['genre', 'duration_ms', 'liveness', 'valence', 'speechiness', 'danceability', 'energy' ]]\n",
        "#X = df2[['genre', 'acousticness', 'danceability', 'duration_ms', 'energy', 'instrumentalness', 'key', 'liveness', 'loudness', \n",
        "#         'mode', 'speechiness', 'tempo', 'time_signature', 'valence']]\n",
        "#X = df2[['acousticness', 'danceability', 'duration_ms', 'liveness', 'loudness', 'speechiness', 'valence']]\n",
        "# Collect y-values\n",
        "y = df2.popularity\n",
        "\n"
      ]
    },
    {
      "cell_type": "code",
      "execution_count": null,
      "metadata": {
        "colab": {
          "base_uri": "https://localhost:8080/"
        },
        "id": "yff5UAHdk-Dd",
        "outputId": "a851eb6d-4b72-441e-bf38-1623e8bd3294"
      },
      "outputs": [
        {
          "output_type": "stream",
          "name": "stderr",
          "text": [
            "/usr/local/lib/python3.7/dist-packages/ipykernel_launcher.py:2: SettingWithCopyWarning: \n",
            "A value is trying to be set on a copy of a slice from a DataFrame.\n",
            "Try using .loc[row_indexer,col_indexer] = value instead\n",
            "\n",
            "See the caveats in the documentation: https://pandas.pydata.org/pandas-docs/stable/user_guide/indexing.html#returning-a-view-versus-a-copy\n",
            "  \n",
            "/usr/local/lib/python3.7/dist-packages/ipykernel_launcher.py:5: SettingWithCopyWarning: \n",
            "A value is trying to be set on a copy of a slice from a DataFrame.\n",
            "Try using .loc[row_indexer,col_indexer] = value instead\n",
            "\n",
            "See the caveats in the documentation: https://pandas.pydata.org/pandas-docs/stable/user_guide/indexing.html#returning-a-view-versus-a-copy\n",
            "  \"\"\"\n"
          ]
        }
      ],
      "source": [
        "#X = pd.get_dummies(X, columns = ['genre'])\n",
        "X['genre'] = class_le.fit_transform(X['genre'])\n",
        "#X['key'] = class_le.fit_transform(X['key'])\n",
        "#X['mode'] = class_le.fit_transform(X['mode'])\n",
        "X['duration_ms'] = X['duration_ms']/(1000*60)\n",
        "#X['time_signature'] = class_le.fit_transform(X['time_signature'])"
      ]
    },
    {
      "cell_type": "code",
      "execution_count": null,
      "metadata": {
        "colab": {
          "base_uri": "https://localhost:8080/",
          "height": 423
        },
        "id": "uoyoSZZZlR_A",
        "outputId": "0f62b279-5881-4bb2-db3b-cce57f29d298"
      },
      "outputs": [
        {
          "output_type": "execute_result",
          "data": {
            "text/plain": [
              "        genre  acousticness  danceability  duration_ms  instrumentalness  \\\n",
              "134848     20      0.007920         0.861     2.838250          0.269000   \n",
              "43959      11      0.259000         0.820     3.428883          0.000000   \n",
              "135390     20      0.198000         0.791     4.215550          0.000006   \n",
              "104126      6      0.957000         0.461     2.410667          0.000000   \n",
              "58631      16      0.982000         0.368     5.343783          0.010500   \n",
              "...       ...           ...           ...          ...               ...   \n",
              "167259      6      0.961000         0.325     6.244217          0.531000   \n",
              "110017     17      0.360000         0.617     4.030667          0.000088   \n",
              "103884      5      0.199000         0.376     4.955333          0.000000   \n",
              "11009       1      0.000021         0.522     3.778217          0.003990   \n",
              "226111     22      0.772000         0.442     4.100883          0.000000   \n",
              "\n",
              "        loudness  speechiness  \n",
              "134848   -10.104       0.1430  \n",
              "43959    -12.085       0.0874  \n",
              "135390   -12.167       0.0754  \n",
              "104126   -29.027       0.0798  \n",
              "58631    -13.974       0.0983  \n",
              "...          ...          ...  \n",
              "167259   -17.053       0.0365  \n",
              "110017    -4.063       0.0512  \n",
              "103884    -8.081       0.0399  \n",
              "11009     -5.030       0.0617  \n",
              "226111   -12.831       0.0267  \n",
              "\n",
              "[100000 rows x 7 columns]"
            ],
            "text/html": [
              "\n",
              "  <div id=\"df-007a5f69-cac8-4b34-912c-b9c6ec0538b2\">\n",
              "    <div class=\"colab-df-container\">\n",
              "      <div>\n",
              "<style scoped>\n",
              "    .dataframe tbody tr th:only-of-type {\n",
              "        vertical-align: middle;\n",
              "    }\n",
              "\n",
              "    .dataframe tbody tr th {\n",
              "        vertical-align: top;\n",
              "    }\n",
              "\n",
              "    .dataframe thead th {\n",
              "        text-align: right;\n",
              "    }\n",
              "</style>\n",
              "<table border=\"1\" class=\"dataframe\">\n",
              "  <thead>\n",
              "    <tr style=\"text-align: right;\">\n",
              "      <th></th>\n",
              "      <th>genre</th>\n",
              "      <th>acousticness</th>\n",
              "      <th>danceability</th>\n",
              "      <th>duration_ms</th>\n",
              "      <th>instrumentalness</th>\n",
              "      <th>loudness</th>\n",
              "      <th>speechiness</th>\n",
              "    </tr>\n",
              "  </thead>\n",
              "  <tbody>\n",
              "    <tr>\n",
              "      <th>134848</th>\n",
              "      <td>20</td>\n",
              "      <td>0.007920</td>\n",
              "      <td>0.861</td>\n",
              "      <td>2.838250</td>\n",
              "      <td>0.269000</td>\n",
              "      <td>-10.104</td>\n",
              "      <td>0.1430</td>\n",
              "    </tr>\n",
              "    <tr>\n",
              "      <th>43959</th>\n",
              "      <td>11</td>\n",
              "      <td>0.259000</td>\n",
              "      <td>0.820</td>\n",
              "      <td>3.428883</td>\n",
              "      <td>0.000000</td>\n",
              "      <td>-12.085</td>\n",
              "      <td>0.0874</td>\n",
              "    </tr>\n",
              "    <tr>\n",
              "      <th>135390</th>\n",
              "      <td>20</td>\n",
              "      <td>0.198000</td>\n",
              "      <td>0.791</td>\n",
              "      <td>4.215550</td>\n",
              "      <td>0.000006</td>\n",
              "      <td>-12.167</td>\n",
              "      <td>0.0754</td>\n",
              "    </tr>\n",
              "    <tr>\n",
              "      <th>104126</th>\n",
              "      <td>6</td>\n",
              "      <td>0.957000</td>\n",
              "      <td>0.461</td>\n",
              "      <td>2.410667</td>\n",
              "      <td>0.000000</td>\n",
              "      <td>-29.027</td>\n",
              "      <td>0.0798</td>\n",
              "    </tr>\n",
              "    <tr>\n",
              "      <th>58631</th>\n",
              "      <td>16</td>\n",
              "      <td>0.982000</td>\n",
              "      <td>0.368</td>\n",
              "      <td>5.343783</td>\n",
              "      <td>0.010500</td>\n",
              "      <td>-13.974</td>\n",
              "      <td>0.0983</td>\n",
              "    </tr>\n",
              "    <tr>\n",
              "      <th>...</th>\n",
              "      <td>...</td>\n",
              "      <td>...</td>\n",
              "      <td>...</td>\n",
              "      <td>...</td>\n",
              "      <td>...</td>\n",
              "      <td>...</td>\n",
              "      <td>...</td>\n",
              "    </tr>\n",
              "    <tr>\n",
              "      <th>167259</th>\n",
              "      <td>6</td>\n",
              "      <td>0.961000</td>\n",
              "      <td>0.325</td>\n",
              "      <td>6.244217</td>\n",
              "      <td>0.531000</td>\n",
              "      <td>-17.053</td>\n",
              "      <td>0.0365</td>\n",
              "    </tr>\n",
              "    <tr>\n",
              "      <th>110017</th>\n",
              "      <td>17</td>\n",
              "      <td>0.360000</td>\n",
              "      <td>0.617</td>\n",
              "      <td>4.030667</td>\n",
              "      <td>0.000088</td>\n",
              "      <td>-4.063</td>\n",
              "      <td>0.0512</td>\n",
              "    </tr>\n",
              "    <tr>\n",
              "      <th>103884</th>\n",
              "      <td>5</td>\n",
              "      <td>0.199000</td>\n",
              "      <td>0.376</td>\n",
              "      <td>4.955333</td>\n",
              "      <td>0.000000</td>\n",
              "      <td>-8.081</td>\n",
              "      <td>0.0399</td>\n",
              "    </tr>\n",
              "    <tr>\n",
              "      <th>11009</th>\n",
              "      <td>1</td>\n",
              "      <td>0.000021</td>\n",
              "      <td>0.522</td>\n",
              "      <td>3.778217</td>\n",
              "      <td>0.003990</td>\n",
              "      <td>-5.030</td>\n",
              "      <td>0.0617</td>\n",
              "    </tr>\n",
              "    <tr>\n",
              "      <th>226111</th>\n",
              "      <td>22</td>\n",
              "      <td>0.772000</td>\n",
              "      <td>0.442</td>\n",
              "      <td>4.100883</td>\n",
              "      <td>0.000000</td>\n",
              "      <td>-12.831</td>\n",
              "      <td>0.0267</td>\n",
              "    </tr>\n",
              "  </tbody>\n",
              "</table>\n",
              "<p>100000 rows × 7 columns</p>\n",
              "</div>\n",
              "      <button class=\"colab-df-convert\" onclick=\"convertToInteractive('df-007a5f69-cac8-4b34-912c-b9c6ec0538b2')\"\n",
              "              title=\"Convert this dataframe to an interactive table.\"\n",
              "              style=\"display:none;\">\n",
              "        \n",
              "  <svg xmlns=\"http://www.w3.org/2000/svg\" height=\"24px\"viewBox=\"0 0 24 24\"\n",
              "       width=\"24px\">\n",
              "    <path d=\"M0 0h24v24H0V0z\" fill=\"none\"/>\n",
              "    <path d=\"M18.56 5.44l.94 2.06.94-2.06 2.06-.94-2.06-.94-.94-2.06-.94 2.06-2.06.94zm-11 1L8.5 8.5l.94-2.06 2.06-.94-2.06-.94L8.5 2.5l-.94 2.06-2.06.94zm10 10l.94 2.06.94-2.06 2.06-.94-2.06-.94-.94-2.06-.94 2.06-2.06.94z\"/><path d=\"M17.41 7.96l-1.37-1.37c-.4-.4-.92-.59-1.43-.59-.52 0-1.04.2-1.43.59L10.3 9.45l-7.72 7.72c-.78.78-.78 2.05 0 2.83L4 21.41c.39.39.9.59 1.41.59.51 0 1.02-.2 1.41-.59l7.78-7.78 2.81-2.81c.8-.78.8-2.07 0-2.86zM5.41 20L4 18.59l7.72-7.72 1.47 1.35L5.41 20z\"/>\n",
              "  </svg>\n",
              "      </button>\n",
              "      \n",
              "  <style>\n",
              "    .colab-df-container {\n",
              "      display:flex;\n",
              "      flex-wrap:wrap;\n",
              "      gap: 12px;\n",
              "    }\n",
              "\n",
              "    .colab-df-convert {\n",
              "      background-color: #E8F0FE;\n",
              "      border: none;\n",
              "      border-radius: 50%;\n",
              "      cursor: pointer;\n",
              "      display: none;\n",
              "      fill: #1967D2;\n",
              "      height: 32px;\n",
              "      padding: 0 0 0 0;\n",
              "      width: 32px;\n",
              "    }\n",
              "\n",
              "    .colab-df-convert:hover {\n",
              "      background-color: #E2EBFA;\n",
              "      box-shadow: 0px 1px 2px rgba(60, 64, 67, 0.3), 0px 1px 3px 1px rgba(60, 64, 67, 0.15);\n",
              "      fill: #174EA6;\n",
              "    }\n",
              "\n",
              "    [theme=dark] .colab-df-convert {\n",
              "      background-color: #3B4455;\n",
              "      fill: #D2E3FC;\n",
              "    }\n",
              "\n",
              "    [theme=dark] .colab-df-convert:hover {\n",
              "      background-color: #434B5C;\n",
              "      box-shadow: 0px 1px 3px 1px rgba(0, 0, 0, 0.15);\n",
              "      filter: drop-shadow(0px 1px 2px rgba(0, 0, 0, 0.3));\n",
              "      fill: #FFFFFF;\n",
              "    }\n",
              "  </style>\n",
              "\n",
              "      <script>\n",
              "        const buttonEl =\n",
              "          document.querySelector('#df-007a5f69-cac8-4b34-912c-b9c6ec0538b2 button.colab-df-convert');\n",
              "        buttonEl.style.display =\n",
              "          google.colab.kernel.accessAllowed ? 'block' : 'none';\n",
              "\n",
              "        async function convertToInteractive(key) {\n",
              "          const element = document.querySelector('#df-007a5f69-cac8-4b34-912c-b9c6ec0538b2');\n",
              "          const dataTable =\n",
              "            await google.colab.kernel.invokeFunction('convertToInteractive',\n",
              "                                                     [key], {});\n",
              "          if (!dataTable) return;\n",
              "\n",
              "          const docLinkHtml = 'Like what you see? Visit the ' +\n",
              "            '<a target=\"_blank\" href=https://colab.research.google.com/notebooks/data_table.ipynb>data table notebook</a>'\n",
              "            + ' to learn more about interactive tables.';\n",
              "          element.innerHTML = '';\n",
              "          dataTable['output_type'] = 'display_data';\n",
              "          await google.colab.output.renderOutput(dataTable, element);\n",
              "          const docLink = document.createElement('div');\n",
              "          docLink.innerHTML = docLinkHtml;\n",
              "          element.appendChild(docLink);\n",
              "        }\n",
              "      </script>\n",
              "    </div>\n",
              "  </div>\n",
              "  "
            ]
          },
          "metadata": {},
          "execution_count": 10
        }
      ],
      "source": [
        "X"
      ]
    },
    {
      "cell_type": "code",
      "execution_count": null,
      "metadata": {
        "id": "4ShKyIhZk4jS"
      },
      "outputs": [],
      "source": [
        "# X['genre'] = class_le.fit_transform(X['genre'])\n",
        "#X['duration_ms'] = X['duration_ms']/(1000*60)\n",
        "\n",
        "# Split data into train-validate. (Test will be on Kaggle.) \n",
        "from sklearn.model_selection import train_test_split\n",
        "X_train, X_val, y_train, y_val = train_test_split(X,y,test_size=0.3,random_state=0)\n",
        "\n",
        "from sklearn.preprocessing import StandardScaler\n",
        "sc = StandardScaler()\n",
        "sc.fit(X_train)\n",
        "X_train_std = sc.transform(X_train)\n",
        "X_val_std = sc.transform(X_val)\n",
        "\n",
        "# X_train_std = X_train;\n",
        "# X_val_std = X_val;"
      ]
    },
    {
      "cell_type": "markdown",
      "metadata": {
        "id": "vu7diIwrF_F0"
      },
      "source": [
        "### Linear regression using OLS "
      ]
    },
    {
      "cell_type": "code",
      "execution_count": null,
      "metadata": {
        "colab": {
          "base_uri": "https://localhost:8080/"
        },
        "id": "m6W5VBiyF-fd",
        "outputId": "2f8ba3c2-e0cf-4601-e628-696893352a09"
      },
      "outputs": [
        {
          "output_type": "stream",
          "name": "stderr",
          "text": [
            "/usr/local/lib/python3.7/dist-packages/statsmodels/tools/_testing.py:19: FutureWarning: pandas.util.testing is deprecated. Use the functions in the public API at pandas.testing instead.\n",
            "  import pandas.util.testing as tm\n"
          ]
        },
        {
          "output_type": "stream",
          "name": "stdout",
          "text": [
            "                            OLS Regression Results                            \n",
            "==============================================================================\n",
            "Dep. Variable:             popularity   R-squared:                       0.200\n",
            "Model:                            OLS   Adj. R-squared:                  0.200\n",
            "Method:                 Least Squares   F-statistic:                     2505.\n",
            "Date:                Sat, 09 Apr 2022   Prob (F-statistic):               0.00\n",
            "Time:                        17:24:09   Log-Likelihood:            -2.9463e+05\n",
            "No. Observations:               70000   AIC:                         5.893e+05\n",
            "Df Residuals:                   69992   BIC:                         5.893e+05\n",
            "Df Model:                           7                                         \n",
            "Covariance Type:            nonrobust                                         \n",
            "==============================================================================\n",
            "                 coef    std err          t      P>|t|      [0.025      0.975]\n",
            "------------------------------------------------------------------------------\n",
            "const         41.0759      0.062    667.441      0.000      40.955      41.196\n",
            "x1             1.5907      0.062     25.571      0.000       1.469       1.713\n",
            "x2            -3.4761      0.088    -39.594      0.000      -3.648      -3.304\n",
            "x3             2.2055      0.071     30.937      0.000       2.066       2.345\n",
            "x4             0.5240      0.062      8.430      0.000       0.402       0.646\n",
            "x5            -0.9598      0.074    -12.945      0.000      -1.105      -0.815\n",
            "x6             2.8389      0.095     29.737      0.000       2.652       3.026\n",
            "x7            -2.4221      0.065    -37.094      0.000      -2.550      -2.294\n",
            "==============================================================================\n",
            "Omnibus:                     1479.688   Durbin-Watson:                   1.996\n",
            "Prob(Omnibus):                  0.000   Jarque-Bera (JB):             1547.628\n",
            "Skew:                          -0.354   Prob(JB):                         0.00\n",
            "Kurtosis:                       2.833   Cond. No.                         2.97\n",
            "==============================================================================\n",
            "\n",
            "Warnings:\n",
            "[1] Standard Errors assume that the covariance matrix of the errors is correctly specified.\n"
          ]
        }
      ],
      "source": [
        "import statsmodels.api as sm\n",
        "result = sm.OLS(y_train, sm.add_constant(X_train_std)).fit()\n",
        "print(result.summary())"
      ]
    },
    {
      "cell_type": "markdown",
      "metadata": {
        "id": "GiMo9yqkBKmS"
      },
      "source": [
        "### Decision tree"
      ]
    },
    {
      "cell_type": "code",
      "execution_count": null,
      "metadata": {
        "colab": {
          "base_uri": "https://localhost:8080/"
        },
        "id": "te8IvKjm1vmw",
        "outputId": "1956a73c-ed60-4ed6-a9da-1b4f164b8f28"
      },
      "outputs": [
        {
          "name": "stdout",
          "output_type": "stream",
          "text": [
            "Coefficient of determination: -0.09\n",
            "19.063696530753596\n"
          ]
        }
      ],
      "source": [
        "# decision tree for feature importance on a regression problem\n",
        "from sklearn.datasets import make_regression\n",
        "from sklearn.tree import DecisionTreeRegressor\n",
        "from matplotlib import pyplot\n",
        "model = DecisionTreeRegressor()\n",
        "model.fit(X_train_std, y_train)\n",
        "y_pred = model.predict(X_val_std)\n",
        "from sklearn.metrics import accuracy_score\n",
        "# The coefficient of determination: 1 is perfect prediction\n",
        "print(\"Coefficient of determination: %.2f\" % r2_score(y_val, y_pred))\n",
        "from sklearn.metrics import mean_squared_error\n",
        "errors = mean_squared_error(y_val, y_pred, squared=False)\n",
        "print(errors)"
      ]
    },
    {
      "cell_type": "code",
      "execution_count": null,
      "metadata": {
        "colab": {
          "base_uri": "https://localhost:8080/",
          "height": 386
        },
        "id": "LnbpBbEusATe",
        "outputId": "aa8efe67-4435-4b62-af05-46ada8be46c1"
      },
      "outputs": [
        {
          "name": "stdout",
          "output_type": "stream",
          "text": [
            "Feature: 0, Score: 0.25144\n",
            "Feature: 1, Score: 0.11576\n",
            "Feature: 2, Score: 0.15834\n",
            "Feature: 3, Score: 0.10650\n",
            "Feature: 4, Score: 0.12688\n",
            "Feature: 5, Score: 0.13105\n",
            "Feature: 6, Score: 0.11003\n"
          ]
        },
        {
          "data": {
            "image/png": "[encoded data removed]",
            "text/plain": [
              "<Figure size 432x288 with 1 Axes>"
            ]
          },
          "metadata": {},
          "output_type": "display_data"
        }
      ],
      "source": [
        "importance = model.feature_importances_\n",
        "# summarize feature importance\n",
        "for i,v in enumerate(importance):\n",
        "\tprint('Feature: %0d, Score: %.5f' % (i,v))\n",
        "# plot feature importance\n",
        "pyplot.bar([x for x in range(len(importance))], importance)\n",
        "pyplot.show()"
      ]
    },
    {
      "cell_type": "code",
      "execution_count": null,
      "metadata": {
        "id": "Csg1ae2hsE1Q"
      },
      "outputs": [],
      "source": [
        "feat_labels = X.columns"
      ]
    },
    {
      "cell_type": "code",
      "execution_count": null,
      "metadata": {
        "colab": {
          "base_uri": "https://localhost:8080/"
        },
        "id": "ENsBkKlPsLqs",
        "outputId": "21e5f487-9671-4477-c41e-c95c0d49f43c"
      },
      "outputs": [
        {
          "data": {
            "text/plain": [
              "Index(['acousticness', 'danceability', 'duration_ms', 'liveness', 'loudness',\n",
              "       'speechiness', 'valence'],\n",
              "      dtype='object')"
            ]
          },
          "execution_count": 31,
          "metadata": {},
          "output_type": "execute_result"
        }
      ],
      "source": [
        "feat_labels"
      ]
    },
    {
      "cell_type": "code",
      "execution_count": null,
      "metadata": {
        "colab": {
          "base_uri": "https://localhost:8080/"
        },
        "id": "BRehWGGusThp",
        "outputId": "2015d0cc-73a4-4fb0-9021-9173fd1b88ef"
      },
      "outputs": [
        {
          "name": "stdout",
          "output_type": "stream",
          "text": [
            " 1) acousticness                   0.259259\n",
            " 2) duration_ms                    0.154604\n",
            " 3) speechiness                    0.130687\n",
            " 4) danceability                   0.124027\n",
            " 5) valence                        0.119520\n",
            " 6) loudness                       0.116339\n",
            " 7) liveness                       0.095565\n"
          ]
        }
      ],
      "source": [
        "indices = np.argsort(importance)[::-1]\n",
        "\n",
        "for f in range(X_train.shape[1]):\n",
        "  print(\"%2d) %-*s %f\" % (f + 1, 30, feat_labels[indices[f]], importance[indices[f]]))"
      ]
    },
    {
      "cell_type": "markdown",
      "metadata": {
        "id": "m3XuF56-BMqA"
      },
      "source": [
        "### SVR "
      ]
    },
    {
      "cell_type": "code",
      "execution_count": null,
      "metadata": {
        "colab": {
          "background_save": true
        },
        "id": "Lj02XUpH1yxX",
        "outputId": "2d69279f-c590-40bc-b7df-2b01c3b2b78d"
      },
      "outputs": [
        {
          "data": {
            "text/plain": [
              "SVR(C=10, gamma=0.01)"
            ]
          },
          "execution_count": null,
          "metadata": {},
          "output_type": "execute_result"
        }
      ],
      "source": [
        "from sklearn.svm import SVR\n",
        "from sklearn import svm\n",
        "from sklearn.model_selection import GridSearchCV, train_test_split\n",
        "#svr_rbf = SVR(kernel=\"rbf\", C=150000, gamma=0.004, epsilon=0.1)\n",
        "svr_rbf = SVR(kernel=\"rbf\", C=10, gamma=0.01, epsilon=0.1)\n",
        "# svr_lin = SVR(kernel=\"linear\", C=100, gamma=\"auto\")\n",
        "# svr_poly = SVR(kernel=\"poly\", C=100, gamma=\"auto\", degree=3, epsilon=0.1, coef0=1)\n",
        "svr_rbf.fit(X_train_std, y_train)"
      ]
    },
    {
      "cell_type": "code",
      "execution_count": null,
      "metadata": {
        "id": "xi66zRnvbK2_"
      },
      "outputs": [],
      "source": [
        "y_pred = svr_rbf.predict(X_val_std)\n",
        "from sklearn.metrics import mean_squared_error\n",
        "errors = mean_squared_error(y_val, y_pred, squared=False)\n",
        "print(errors)\n",
        "print(\"Coefficient of determination: %.2f\" % r2_score(y_val, y_pred))"
      ]
    },
    {
      "cell_type": "code",
      "execution_count": null,
      "metadata": {
        "id": "5vVIMcOzuVIE"
      },
      "outputs": [],
      "source": [
        ""
      ]
    },
    {
      "cell_type": "code",
      "execution_count": null,
      "metadata": {
        "id": "-mD8wfH_rX-P"
      },
      "outputs": [],
      "source": [
        ""
      ]
    },
    {
      "cell_type": "code",
      "execution_count": null,
      "metadata": {
        "colab": {
          "base_uri": "https://localhost:8080/"
        },
        "id": "qOXG_0myAoWZ",
        "outputId": "2ed75c87-e647-4b7a-8629-482d6573e102"
      },
      "outputs": [
        {
          "name": "stdout",
          "output_type": "stream",
          "text": [
            "Fitting 5 folds for each of 16 candidates, totalling 80 fits\n",
            "[CV] END ...........................C=1, gamma=1, kernel=rbf; total time=   3.2s\n",
            "[CV] END ...........................C=1, gamma=1, kernel=rbf; total time=   3.2s\n",
            "[CV] END ...........................C=1, gamma=1, kernel=rbf; total time=   3.2s\n",
            "[CV] END ...........................C=1, gamma=1, kernel=rbf; total time=   3.2s\n",
            "[CV] END ...........................C=1, gamma=1, kernel=rbf; total time=   3.2s\n",
            "[CV] END .........................C=1, gamma=0.1, kernel=rbf; total time=   2.8s\n",
            "[CV] END .........................C=1, gamma=0.1, kernel=rbf; total time=   2.9s\n",
            "[CV] END .........................C=1, gamma=0.1, kernel=rbf; total time=   2.8s\n",
            "[CV] END .........................C=1, gamma=0.1, kernel=rbf; total time=   2.8s\n",
            "[CV] END .........................C=1, gamma=0.1, kernel=rbf; total time=   2.8s\n",
            "[CV] END ........................C=1, gamma=0.01, kernel=rbf; total time=   2.8s\n",
            "[CV] END ........................C=1, gamma=0.01, kernel=rbf; total time=   2.8s\n",
            "[CV] END ........................C=1, gamma=0.01, kernel=rbf; total time=   2.8s\n",
            "[CV] END ........................C=1, gamma=0.01, kernel=rbf; total time=   2.8s\n",
            "[CV] END ........................C=1, gamma=0.01, kernel=rbf; total time=   2.8s\n",
            "[CV] END .......................C=1, gamma=0.001, kernel=rbf; total time=   2.9s\n",
            "[CV] END .......................C=1, gamma=0.001, kernel=rbf; total time=   2.8s\n",
            "[CV] END .......................C=1, gamma=0.001, kernel=rbf; total time=   2.9s\n",
            "[CV] END .......................C=1, gamma=0.001, kernel=rbf; total time=   2.9s\n",
            "[CV] END .......................C=1, gamma=0.001, kernel=rbf; total time=   2.8s\n",
            "[CV] END ..........................C=10, gamma=1, kernel=rbf; total time=   3.9s\n",
            "[CV] END ..........................C=10, gamma=1, kernel=rbf; total time=   3.9s\n",
            "[CV] END ..........................C=10, gamma=1, kernel=rbf; total time=   3.9s\n",
            "[CV] END ..........................C=10, gamma=1, kernel=rbf; total time=   3.9s\n",
            "[CV] END ..........................C=10, gamma=1, kernel=rbf; total time=   3.9s\n",
            "[CV] END ........................C=10, gamma=0.1, kernel=rbf; total time=   3.6s\n",
            "[CV] END ........................C=10, gamma=0.1, kernel=rbf; total time=   3.0s\n",
            "[CV] END ........................C=10, gamma=0.1, kernel=rbf; total time=   3.0s\n",
            "[CV] END ........................C=10, gamma=0.1, kernel=rbf; total time=   2.9s\n",
            "[CV] END ........................C=10, gamma=0.1, kernel=rbf; total time=   3.0s\n",
            "[CV] END .......................C=10, gamma=0.01, kernel=rbf; total time=   2.9s\n",
            "[CV] END .......................C=10, gamma=0.01, kernel=rbf; total time=   2.9s\n",
            "[CV] END .......................C=10, gamma=0.01, kernel=rbf; total time=   2.9s\n",
            "[CV] END .......................C=10, gamma=0.01, kernel=rbf; total time=   2.8s\n",
            "[CV] END .......................C=10, gamma=0.01, kernel=rbf; total time=   2.8s\n",
            "[CV] END ......................C=10, gamma=0.001, kernel=rbf; total time=   2.8s\n",
            "[CV] END ......................C=10, gamma=0.001, kernel=rbf; total time=   2.8s\n",
            "[CV] END ......................C=10, gamma=0.001, kernel=rbf; total time=   3.0s\n",
            "[CV] END ......................C=10, gamma=0.001, kernel=rbf; total time=   2.8s\n",
            "[CV] END ......................C=10, gamma=0.001, kernel=rbf; total time=   2.8s\n",
            "[CV] END .........................C=100, gamma=1, kernel=rbf; total time=  10.8s\n",
            "[CV] END .........................C=100, gamma=1, kernel=rbf; total time=  10.9s\n",
            "[CV] END .........................C=100, gamma=1, kernel=rbf; total time=  10.6s\n",
            "[CV] END .........................C=100, gamma=1, kernel=rbf; total time=  10.8s\n",
            "[CV] END .........................C=100, gamma=1, kernel=rbf; total time=  10.5s\n",
            "[CV] END .......................C=100, gamma=0.1, kernel=rbf; total time=   4.3s\n",
            "[CV] END .......................C=100, gamma=0.1, kernel=rbf; total time=   4.3s\n",
            "[CV] END .......................C=100, gamma=0.1, kernel=rbf; total time=   5.0s\n",
            "[CV] END .......................C=100, gamma=0.1, kernel=rbf; total time=   4.4s\n",
            "[CV] END .......................C=100, gamma=0.1, kernel=rbf; total time=   4.9s\n",
            "[CV] END ......................C=100, gamma=0.01, kernel=rbf; total time=   3.1s\n",
            "[CV] END ......................C=100, gamma=0.01, kernel=rbf; total time=   3.1s\n",
            "[CV] END ......................C=100, gamma=0.01, kernel=rbf; total time=   3.1s\n",
            "[CV] END ......................C=100, gamma=0.01, kernel=rbf; total time=   3.1s\n",
            "[CV] END ......................C=100, gamma=0.01, kernel=rbf; total time=   3.1s\n",
            "[CV] END .....................C=100, gamma=0.001, kernel=rbf; total time=   2.9s\n",
            "[CV] END .....................C=100, gamma=0.001, kernel=rbf; total time=   2.9s\n",
            "[CV] END .....................C=100, gamma=0.001, kernel=rbf; total time=   2.9s\n",
            "[CV] END .....................C=100, gamma=0.001, kernel=rbf; total time=   2.9s\n",
            "[CV] END .....................C=100, gamma=0.001, kernel=rbf; total time=   2.9s\n",
            "[CV] END ........................C=1000, gamma=1, kernel=rbf; total time=  39.8s\n",
            "[CV] END ........................C=1000, gamma=1, kernel=rbf; total time=  39.6s\n",
            "[CV] END ........................C=1000, gamma=1, kernel=rbf; total time=  42.4s\n",
            "[CV] END ........................C=1000, gamma=1, kernel=rbf; total time=  40.0s\n",
            "[CV] END ........................C=1000, gamma=1, kernel=rbf; total time=  43.7s\n",
            "[CV] END ......................C=1000, gamma=0.1, kernel=rbf; total time=  19.1s\n",
            "[CV] END ......................C=1000, gamma=0.1, kernel=rbf; total time=  18.0s\n",
            "[CV] END ......................C=1000, gamma=0.1, kernel=rbf; total time=  18.6s\n",
            "[CV] END ......................C=1000, gamma=0.1, kernel=rbf; total time=  18.7s\n",
            "[CV] END ......................C=1000, gamma=0.1, kernel=rbf; total time=  18.1s\n",
            "[CV] END .....................C=1000, gamma=0.01, kernel=rbf; total time=   5.2s\n",
            "[CV] END .....................C=1000, gamma=0.01, kernel=rbf; total time=   5.0s\n",
            "[CV] END .....................C=1000, gamma=0.01, kernel=rbf; total time=   5.0s\n",
            "[CV] END .....................C=1000, gamma=0.01, kernel=rbf; total time=   4.8s\n",
            "[CV] END .....................C=1000, gamma=0.01, kernel=rbf; total time=   4.9s\n",
            "[CV] END ....................C=1000, gamma=0.001, kernel=rbf; total time=   3.2s\n",
            "[CV] END ....................C=1000, gamma=0.001, kernel=rbf; total time=   3.2s\n",
            "[CV] END ....................C=1000, gamma=0.001, kernel=rbf; total time=   3.2s\n",
            "[CV] END ....................C=1000, gamma=0.001, kernel=rbf; total time=   3.2s\n",
            "[CV] END ....................C=1000, gamma=0.001, kernel=rbf; total time=   3.1s\n",
            "SVR GridSearch params: \n",
            "{'C': 10, 'gamma': 0.01, 'kernel': 'rbf'}\n"
          ]
        }
      ],
      "source": [
        "param_grid = {'C': [1, 10, 100, 1000], 'gamma': [1,0.1,0.01,0.001],'kernel': ['rbf']}\n",
        "svr_cv = GridSearchCV(svm.SVR(), param_grid, refit=True,verbose=2)\n",
        "svr_cv.fit(X_train_std, y_train)\n",
        "print(\"SVR GridSearch params: \")\n",
        "print(svr_cv.best_params_)"
      ]
    },
    {
      "cell_type": "code",
      "execution_count": null,
      "metadata": {
        "colab": {
          "base_uri": "https://localhost:8080/",
          "height": 130
        },
        "id": "cMRcz6kJ10eC",
        "outputId": "2a2fdb42-79f0-4408-c512-b019d5cc4eb8"
      },
      "outputs": [
        {
          "ename": "SyntaxError",
          "evalue": "ignored",
          "output_type": "error",
          "traceback": [
            "\u001b[0;36m  File \u001b[0;32m\"<ipython-input-2-3544946c7a41>\"\u001b[0;36m, line \u001b[0;32m1\u001b[0m\n\u001b[0;31m    SVR GridSearch params:\u001b[0m\n\u001b[0m                 ^\u001b[0m\n\u001b[0;31mSyntaxError\u001b[0m\u001b[0;31m:\u001b[0m invalid syntax\n"
          ]
        }
      ],
      "source": [
        "# SVR GridSearch params: \n",
        "# {'C': 10, 'gamma': 0.01, 'kernel': 'rbf'}"
      ]
    },
    {
      "cell_type": "code",
      "execution_count": null,
      "metadata": {
        "id": "uaOAajSnBrDG"
      },
      "outputs": [],
      "source": [
        ""
      ]
    }
  ],
  "metadata": {
    "colab": {
      "collapsed_sections": [],
      "name": "regression.ipynb",
      "provenance": []
    },
    "kernelspec": {
      "display_name": "Python 3",
      "name": "python3"
    },
    "language_info": {
      "name": "python"
    }
  },
  "nbformat": 4,
  "nbformat_minor": 0
}